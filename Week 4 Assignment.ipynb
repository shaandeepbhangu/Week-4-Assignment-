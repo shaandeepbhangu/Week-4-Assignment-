{
 "cells": [
  {
   "cell_type": "markdown",
   "id": "cc2aec9c-e493-4ac6-831d-1222fd17317f",
   "metadata": {},
   "source": [
    "Week 4 Assignment - Shaan Bhangu"
   ]
  },
  {
   "cell_type": "markdown",
   "id": "288ed24f-9f6b-4219-8e91-b472e375bddf",
   "metadata": {},
   "source": [
    "This notebook will include my week 4 assignment for tools of data science."
   ]
  },
  {
   "cell_type": "markdown",
   "id": "5e1c7b67-a0e3-4fcb-b989-8cb9fcaf7246",
   "metadata": {},
   "source": [
    "3.\n",
    "- Python\n",
    "- SQL\n",
    "- R\n",
    "- Apache\n",
    "- Swift"
   ]
  },
  {
   "cell_type": "markdown",
   "id": "de6ec633-7d45-4410-9f62-78735226aeea",
   "metadata": {},
   "source": [
    "4.\n",
    "- Numpy\n",
    "- Scipy\n",
    "- Pandas"
   ]
  },
  {
   "cell_type": "markdown",
   "id": "79008974-7682-4d20-ac13-618149fb7a27",
   "metadata": {},
   "source": [
    "| Data Science Tools |\n",
    "|--------------------|\n",
    "| Github |\n",
    "| IBM Watson Studio |\n"
   ]
  },
  {
   "cell_type": "markdown",
   "id": "9bbd7a31-a279-42d1-b24d-c8cc724a2ba5",
   "metadata": {},
   "source": [
    "### Arithmic Expressions: "
   ]
  },
  {
   "cell_type": "code",
   "execution_count": 11,
   "id": "716eb89e-16c2-44c7-911a-dd704e9b0ce4",
   "metadata": {},
   "outputs": [
    {
     "data": {
      "text/plain": [
       "22"
      ]
     },
     "execution_count": 11,
     "metadata": {},
     "output_type": "execute_result"
    }
   ],
   "source": [
    "(3*4)+10"
   ]
  },
  {
   "cell_type": "markdown",
   "id": "9f79dc39-f76c-4a51-938a-4c8cc2e49422",
   "metadata": {},
   "source": [
    "120 minutes to hours: by dividing by 60 (minutes in an hour)"
   ]
  },
  {
   "cell_type": "code",
   "execution_count": 13,
   "id": "2877933f-a07a-4555-8be7-4305cfb076cb",
   "metadata": {},
   "outputs": [
    {
     "data": {
      "text/plain": [
       "2.0"
      ]
     },
     "execution_count": 13,
     "metadata": {},
     "output_type": "execute_result"
    }
   ],
   "source": [
    "120/60"
   ]
  },
  {
   "cell_type": "markdown",
   "id": "0ca79d95-4ba7-4c5c-9058-34a1bcb893eb",
   "metadata": {},
   "source": [
    "Objectives for this lesson:\n",
    "    - coding languages\n",
    "    - Alternative data science tools\n",
    "    - Github and IBM Watson Studio"
   ]
  },
  {
   "cell_type": "code",
   "execution_count": null,
   "id": "1c36d26a-c7cc-475f-b52a-7ea21c294f44",
   "metadata": {},
   "outputs": [],
   "source": []
  }
 ],
 "metadata": {
  "kernelspec": {
   "display_name": "Python",
   "language": "python",
   "name": "conda-env-python-py"
  },
  "language_info": {
   "codemirror_mode": {
    "name": "ipython",
    "version": 3
   },
   "file_extension": ".py",
   "mimetype": "text/x-python",
   "name": "python",
   "nbconvert_exporter": "python",
   "pygments_lexer": "ipython3",
   "version": "3.7.12"
  }
 },
 "nbformat": 4,
 "nbformat_minor": 5
}
